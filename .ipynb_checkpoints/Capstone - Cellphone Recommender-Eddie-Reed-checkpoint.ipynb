{
 "cells": [
  {
   "cell_type": "markdown",
   "metadata": {},
   "source": [
    "## Cell Phone Recommender"
   ]
  },
  {
   "cell_type": "markdown",
   "metadata": {},
   "source": [
    "## Problem Statement\n",
    "\n",
    "My goal is to build a cellphone recommender system that will help a consumer decide on a new phone purchase. \n",
    "This recommender system would be very valuble to wireless carriers and retaile stores in helping their customers making smart recommendations on    "
   ]
  },
  {
   "cell_type": "markdown",
   "metadata": {},
   "source": [
    "## Data Collectiion and Initial EDA"
   ]
  },
  {
   "cell_type": "markdown",
   "metadata": {},
   "source": [
    "My initial challenge was trying to find a single source of data stored all the modfor all cellphones sold worldwide.  I discovered the www.gsmarena.com is **THE** master database of all cellphones manufactured and sold.  I used a scraping tool written by [David Beley](https://github.com/dbeley/gsmarena-scraper) specifically to extra data from GSMArena website.  The data collection took about 3 hours to process."
   ]
  },
  {
   "cell_type": "code",
   "execution_count": 12,
   "metadata": {},
   "outputs": [],
   "source": [
    "# Imports\n",
    "import pandas as pd"
   ]
  },
  {
   "cell_type": "code",
   "execution_count": null,
   "metadata": {},
   "outputs": [],
   "source": []
  },
  {
   "cell_type": "code",
   "execution_count": 7,
   "metadata": {},
   "outputs": [],
   "source": [
    "# Read in data \n",
    "df = pd.read_csv('datasets/all_brands_export.csv',sep=';')"
   ]
  },
  {
   "cell_type": "markdown",
   "metadata": {},
   "source": [
    "The first thing I noticed when trying to read in the data is that it was seperated by a `';'` instead of a `','`, so I was originally getting an error.  "
   ]
  },
  {
   "cell_type": "code",
   "execution_count": 11,
   "metadata": {},
   "outputs": [
    {
     "data": {
      "text/html": [
       "<div>\n",
       "<style scoped>\n",
       "    .dataframe tbody tr th:only-of-type {\n",
       "        vertical-align: middle;\n",
       "    }\n",
       "\n",
       "    .dataframe tbody tr th {\n",
       "        vertical-align: top;\n",
       "    }\n",
       "\n",
       "    .dataframe thead th {\n",
       "        text-align: right;\n",
       "    }\n",
       "</style>\n",
       "<table border=\"1\" class=\"dataframe\">\n",
       "  <thead>\n",
       "    <tr style=\"text-align: right;\">\n",
       "      <th></th>\n",
       "      <th>Link</th>\n",
       "      <th>Image</th>\n",
       "      <th>Name</th>\n",
       "      <th>Release date</th>\n",
       "      <th>Weight</th>\n",
       "      <th>OS</th>\n",
       "      <th>Storage</th>\n",
       "      <th>Fans</th>\n",
       "      <th>Popularity</th>\n",
       "      <th>Hits</th>\n",
       "      <th>...</th>\n",
       "      <th>batlife</th>\n",
       "      <th>displayprotection</th>\n",
       "      <th>models</th>\n",
       "      <th>nfc</th>\n",
       "      <th>sar-eu</th>\n",
       "      <th>batmusicplayback1</th>\n",
       "      <th>displayother</th>\n",
       "      <th>sar-us</th>\n",
       "      <th>build</th>\n",
       "      <th>memoryother</th>\n",
       "    </tr>\n",
       "  </thead>\n",
       "  <tbody>\n",
       "    <tr>\n",
       "      <td>0</td>\n",
       "      <td>https://www.gsmarena.com/acer_chromebook_tab_1...</td>\n",
       "      <td>https://fdn2.gsmarena.com/vv/bigpic/acer-chrom...</td>\n",
       "      <td>Acer Chromebook Tab 10</td>\n",
       "      <td>Released 2018, July</td>\n",
       "      <td>544.3g, 9.9mm thickness</td>\n",
       "      <td>Chrome OS</td>\n",
       "      <td>32GB storage, microSD slot</td>\n",
       "      <td>13</td>\n",
       "      <td>0.3%</td>\n",
       "      <td>164,370 hits</td>\n",
       "      <td>...</td>\n",
       "      <td>NaN</td>\n",
       "      <td>NaN</td>\n",
       "      <td>NaN</td>\n",
       "      <td>NaN</td>\n",
       "      <td>NaN</td>\n",
       "      <td>NaN</td>\n",
       "      <td>NaN</td>\n",
       "      <td>NaN</td>\n",
       "      <td>NaN</td>\n",
       "      <td>NaN</td>\n",
       "    </tr>\n",
       "    <tr>\n",
       "      <td>1</td>\n",
       "      <td>https://www.gsmarena.com/acer_iconia_talk_s-83...</td>\n",
       "      <td>https://fdn2.gsmarena.com/vv/bigpic/acer-iconi...</td>\n",
       "      <td>Acer Iconia Talk S</td>\n",
       "      <td>Released 2016, October</td>\n",
       "      <td>260g, 9.4mm thickness</td>\n",
       "      <td>Android 6.0</td>\n",
       "      <td>16GB/32GB storage, microSD slot</td>\n",
       "      <td>16</td>\n",
       "      <td>0.2%</td>\n",
       "      <td>418,505 hits</td>\n",
       "      <td>...</td>\n",
       "      <td>NaN</td>\n",
       "      <td>NaN</td>\n",
       "      <td>NaN</td>\n",
       "      <td>NaN</td>\n",
       "      <td>NaN</td>\n",
       "      <td>NaN</td>\n",
       "      <td>NaN</td>\n",
       "      <td>NaN</td>\n",
       "      <td>NaN</td>\n",
       "      <td>NaN</td>\n",
       "    </tr>\n",
       "    <tr>\n",
       "      <td>2</td>\n",
       "      <td>https://www.gsmarena.com/acer_liquid_z6_plus-8...</td>\n",
       "      <td>https://fdn2.gsmarena.com/vv/bigpic/acer-liqui...</td>\n",
       "      <td>Acer Liquid Z6 Plus</td>\n",
       "      <td>Released 2016, December</td>\n",
       "      <td>169g, 8.5mm thickness</td>\n",
       "      <td>Android 6.0</td>\n",
       "      <td>32GB storage, microSD slot</td>\n",
       "      <td>34</td>\n",
       "      <td>0.2%</td>\n",
       "      <td>587,222 hits</td>\n",
       "      <td>...</td>\n",
       "      <td>NaN</td>\n",
       "      <td>NaN</td>\n",
       "      <td>NaN</td>\n",
       "      <td>NaN</td>\n",
       "      <td>NaN</td>\n",
       "      <td>NaN</td>\n",
       "      <td>NaN</td>\n",
       "      <td>NaN</td>\n",
       "      <td>NaN</td>\n",
       "      <td>NaN</td>\n",
       "    </tr>\n",
       "    <tr>\n",
       "      <td>3</td>\n",
       "      <td>https://www.gsmarena.com/acer_liquid_z6-8304.php</td>\n",
       "      <td>https://fdn2.gsmarena.com/vv/bigpic/acer-liqui...</td>\n",
       "      <td>Acer Liquid Z6</td>\n",
       "      <td>Released 2016, December</td>\n",
       "      <td>126g, 8.5mm thickness</td>\n",
       "      <td>Android 6.0</td>\n",
       "      <td>8GB storage, microSD slot</td>\n",
       "      <td>2</td>\n",
       "      <td>0.1%</td>\n",
       "      <td>220,036 hits</td>\n",
       "      <td>...</td>\n",
       "      <td>NaN</td>\n",
       "      <td>NaN</td>\n",
       "      <td>NaN</td>\n",
       "      <td>NaN</td>\n",
       "      <td>NaN</td>\n",
       "      <td>NaN</td>\n",
       "      <td>NaN</td>\n",
       "      <td>NaN</td>\n",
       "      <td>NaN</td>\n",
       "      <td>NaN</td>\n",
       "    </tr>\n",
       "    <tr>\n",
       "      <td>4</td>\n",
       "      <td>https://www.gsmarena.com/acer_iconia_tab_10_a3...</td>\n",
       "      <td>https://fdn2.gsmarena.com/vv/bigpic/acer-iconi...</td>\n",
       "      <td>Acer Iconia Tab 10 A3-A40</td>\n",
       "      <td>Released 2016, June</td>\n",
       "      <td>8.9mm thickness</td>\n",
       "      <td>Android 6.0</td>\n",
       "      <td>16GB/32GB/64GB storage, microSD slot</td>\n",
       "      <td>16</td>\n",
       "      <td>0.1%</td>\n",
       "      <td>292,692 hits</td>\n",
       "      <td>...</td>\n",
       "      <td>NaN</td>\n",
       "      <td>NaN</td>\n",
       "      <td>NaN</td>\n",
       "      <td>NaN</td>\n",
       "      <td>NaN</td>\n",
       "      <td>NaN</td>\n",
       "      <td>NaN</td>\n",
       "      <td>NaN</td>\n",
       "      <td>NaN</td>\n",
       "      <td>NaN</td>\n",
       "    </tr>\n",
       "  </tbody>\n",
       "</table>\n",
       "<p>5 rows × 66 columns</p>\n",
       "</div>"
      ],
      "text/plain": [
       "                                                Link  \\\n",
       "0  https://www.gsmarena.com/acer_chromebook_tab_1...   \n",
       "1  https://www.gsmarena.com/acer_iconia_talk_s-83...   \n",
       "2  https://www.gsmarena.com/acer_liquid_z6_plus-8...   \n",
       "3   https://www.gsmarena.com/acer_liquid_z6-8304.php   \n",
       "4  https://www.gsmarena.com/acer_iconia_tab_10_a3...   \n",
       "\n",
       "                                               Image  \\\n",
       "0  https://fdn2.gsmarena.com/vv/bigpic/acer-chrom...   \n",
       "1  https://fdn2.gsmarena.com/vv/bigpic/acer-iconi...   \n",
       "2  https://fdn2.gsmarena.com/vv/bigpic/acer-liqui...   \n",
       "3  https://fdn2.gsmarena.com/vv/bigpic/acer-liqui...   \n",
       "4  https://fdn2.gsmarena.com/vv/bigpic/acer-iconi...   \n",
       "\n",
       "                        Name             Release date  \\\n",
       "0     Acer Chromebook Tab 10      Released 2018, July   \n",
       "1         Acer Iconia Talk S   Released 2016, October   \n",
       "2        Acer Liquid Z6 Plus  Released 2016, December   \n",
       "3             Acer Liquid Z6  Released 2016, December   \n",
       "4  Acer Iconia Tab 10 A3-A40      Released 2016, June   \n",
       "\n",
       "                    Weight           OS                               Storage  \\\n",
       "0  544.3g, 9.9mm thickness    Chrome OS            32GB storage, microSD slot   \n",
       "1    260g, 9.4mm thickness  Android 6.0       16GB/32GB storage, microSD slot   \n",
       "2    169g, 8.5mm thickness  Android 6.0            32GB storage, microSD slot   \n",
       "3    126g, 8.5mm thickness  Android 6.0             8GB storage, microSD slot   \n",
       "4          8.9mm thickness  Android 6.0  16GB/32GB/64GB storage, microSD slot   \n",
       "\n",
       "   Fans Popularity          Hits  ... batlife displayprotection models  nfc  \\\n",
       "0    13       0.3%  164,370 hits  ...     NaN               NaN    NaN  NaN   \n",
       "1    16       0.2%  418,505 hits  ...     NaN               NaN    NaN  NaN   \n",
       "2    34       0.2%  587,222 hits  ...     NaN               NaN    NaN  NaN   \n",
       "3     2       0.1%  220,036 hits  ...     NaN               NaN    NaN  NaN   \n",
       "4    16       0.1%  292,692 hits  ...     NaN               NaN    NaN  NaN   \n",
       "\n",
       "  sar-eu batmusicplayback1 displayother sar-us build memoryother  \n",
       "0    NaN               NaN          NaN    NaN   NaN         NaN  \n",
       "1    NaN               NaN          NaN    NaN   NaN         NaN  \n",
       "2    NaN               NaN          NaN    NaN   NaN         NaN  \n",
       "3    NaN               NaN          NaN    NaN   NaN         NaN  \n",
       "4    NaN               NaN          NaN    NaN   NaN         NaN  \n",
       "\n",
       "[5 rows x 66 columns]"
      ]
     },
     "execution_count": 11,
     "metadata": {},
     "output_type": "execute_result"
    }
   ],
   "source": [
    "df.head()"
   ]
  },
  {
   "cell_type": "code",
   "execution_count": 30,
   "metadata": {},
   "outputs": [],
   "source": [
    "# changing the display lines so I can see all the columns and a number of rows.\n",
    "pd.options.display.max_rows = 999\n",
    "pd.options.display.max_columns = 999"
   ]
  },
  {
   "cell_type": "markdown",
   "metadata": {},
   "source": [
    "Doing an initial head on the dataframe, it appears to be a number of columns at the end with NaN values.  I will need to investigate."
   ]
  },
  {
   "cell_type": "code",
   "execution_count": 31,
   "metadata": {},
   "outputs": [
    {
     "data": {
      "text/plain": [
       "Link                    0\n",
       "Image                   0\n",
       "Name                    0\n",
       "Release date            0\n",
       "Weight                278\n",
       "OS                      0\n",
       "Storage                 0\n",
       "Fans                    0\n",
       "Popularity           7744\n",
       "Hits                    0\n",
       "Screen_size          1239\n",
       "Screen_resolution      47\n",
       "RAM                     0\n",
       "SOC                  5019\n",
       "Battery               560\n",
       "net2g                 306\n",
       "gprstext             5821\n",
       "edge                 5814\n",
       "year                   16\n",
       "status                  0\n",
       "dimensions             21\n",
       "weight                 91\n",
       "sim                     1\n",
       "bodyother            8608\n",
       "displaytype             4\n",
       "displaysize          1220\n",
       "displayresolution      47\n",
       "os                   3758\n",
       "chipset              5019\n",
       "cpu                  3828\n",
       "memoryslot              0\n",
       "internalmemory       1759\n",
       "cam1modules             3\n",
       "cam1video            1308\n",
       "cam2modules          1270\n",
       "cam2video            8549\n",
       "wlan                    3\n",
       "bluetooth               2\n",
       "gps                    30\n",
       "radio                  93\n",
       "usb                   909\n",
       "sensors              4085\n",
       "batdescription1         3\n",
       "battalktime1         2705\n",
       "colors                606\n",
       "price                4185\n",
       "net3g                3827\n",
       "net4g                7174\n",
       "speed                3794\n",
       "gpu                  5128\n",
       "cam1features         4623\n",
       "optionalother        7190\n",
       "featuresother        4172\n",
       "cam2features         8874\n",
       "batstandby1          3000\n",
       "tbench               9863\n",
       "batlife              9863\n",
       "displayprotection    7993\n",
       "models               7939\n",
       "nfc                  8703\n",
       "sar-eu               7414\n",
       "batmusicplayback1    9105\n",
       "displayother         7004\n",
       "sar-us               7751\n",
       "build                9045\n",
       "memoryother          9322\n",
       "dtype: int64"
      ]
     },
     "execution_count": 31,
     "metadata": {},
     "output_type": "execute_result"
    }
   ],
   "source": [
    "df.isnull().sum()"
   ]
  },
  {
   "cell_type": "code",
   "execution_count": 10,
   "metadata": {},
   "outputs": [
    {
     "data": {
      "text/plain": [
       "(9863, 66)"
      ]
     },
     "execution_count": 10,
     "metadata": {},
     "output_type": "execute_result"
    }
   ],
   "source": [
    "df.shape"
   ]
  },
  {
   "cell_type": "code",
   "execution_count": null,
   "metadata": {},
   "outputs": [],
   "source": []
  }
 ],
 "metadata": {
  "kernelspec": {
   "display_name": "Python 3",
   "language": "python",
   "name": "python3"
  },
  "language_info": {
   "codemirror_mode": {
    "name": "ipython",
    "version": 3
   },
   "file_extension": ".py",
   "mimetype": "text/x-python",
   "name": "python",
   "nbconvert_exporter": "python",
   "pygments_lexer": "ipython3",
   "version": "3.7.3"
  }
 },
 "nbformat": 4,
 "nbformat_minor": 2
}
